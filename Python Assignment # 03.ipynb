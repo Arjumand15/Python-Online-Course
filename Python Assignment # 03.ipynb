{
 "cells": [
  {
   "cell_type": "markdown",
   "id": "46033740",
   "metadata": {},
   "source": [
    "# <center><font style=\"color:rgb(0,0,139)\">***Python Programming Language***</font> <center>"
   ]
  },
  {
   "cell_type": "markdown",
   "id": "da535273",
   "metadata": {},
   "source": [
    "# <center><font style=\"color:rgb(0,0,139)\">***Assignment # 03***</font> <center>"
   ]
  },
  {
   "cell_type": "markdown",
   "id": "51bfa4fc",
   "metadata": {},
   "source": [
    "### Question # 01\n",
    "Write a Python program to print the following string in a specific format (see the\n",
    "output).\n",
    "\n",
    "`Twinkle, twinkle, little star,\n",
    "        How I wonder what you are!\n",
    "                Up above the world so high,\n",
    "                Like a diamond in the sky\n",
    " Twinkle, twinkle, little star,\n",
    "        How I wonder what you are`"
   ]
  },
  {
   "cell_type": "code",
   "execution_count": 10,
   "id": "ec9bcda3",
   "metadata": {},
   "outputs": [
    {
     "name": "stdout",
     "output_type": "stream",
     "text": [
      "Twinkle, twinkle, little star,\n",
      "\tHow I wonder what you are!\n",
      "\t\tUp above the world so high,\n",
      "\t\tLike a diamond in the sky.\n",
      "Twinkle, twinkle, little star,\n",
      "\tHow I wonder what you are\n"
     ]
    }
   ],
   "source": [
    "print(\"Twinkle, twinkle, little star,\\n\\tHow I wonder what you are!\\n\\t\\tUp above the world so high,\\n\\t\\tLike a diamond in the sky.\\nTwinkle, twinkle, little star,\\n\\tHow I wonder what you are\")"
   ]
  },
  {
   "cell_type": "markdown",
   "id": "d51f8e75",
   "metadata": {},
   "source": [
    "### Question # 02\n",
    "Write a Python program to get the Python version you are using"
   ]
  },
  {
   "cell_type": "code",
   "execution_count": 11,
   "id": "a9b6f597",
   "metadata": {},
   "outputs": [
    {
     "name": "stdout",
     "output_type": "stream",
     "text": [
      "Python version :\t'3.8.8 (default, Apr 13 2021, 15:08:03) [MSC v.1916 64 bit (AMD64)]\n"
     ]
    }
   ],
   "source": [
    "import sys\n",
    "print(\"Python version :\\t'\" + sys.version)"
   ]
  },
  {
   "cell_type": "markdown",
   "id": "32b24dc6",
   "metadata": {},
   "source": [
    "### Question # 03\n",
    "Write a Python program to display the current date and time."
   ]
  },
  {
   "cell_type": "code",
   "execution_count": 12,
   "id": "c65bb87b",
   "metadata": {},
   "outputs": [
    {
     "name": "stdout",
     "output_type": "stream",
     "text": [
      "Current date and time :\t2021-10-24 01:34:40\n"
     ]
    }
   ],
   "source": [
    "import datetime\n",
    "now = datetime.datetime.now()\n",
    "print (\"Current date and time :\\t\" + now.strftime(\"%Y-%m-%d %H:%M:%S\"))"
   ]
  },
  {
   "cell_type": "markdown",
   "id": "72b982f8",
   "metadata": {},
   "source": [
    "### Question # 04\n",
    "Write a Python program which accepts the radius of a circle from the user and compute\n",
    "the area."
   ]
  },
  {
   "cell_type": "code",
   "execution_count": 13,
   "id": "cf39a6c3",
   "metadata": {},
   "outputs": [
    {
     "name": "stdout",
     "output_type": "stream",
     "text": [
      "Please enter the radius of the circle : 22\n",
      "The area of the circle is : 1520.53084433746\n"
     ]
    }
   ],
   "source": [
    "from math import pi\n",
    "radius = float(input (\"Please enter the radius of the circle : \"))\n",
    "area = pi*radius**2\n",
    "print(\"The area of the circle is : \"+ str(area))"
   ]
  },
  {
   "cell_type": "markdown",
   "id": "8608db10",
   "metadata": {},
   "source": [
    "### Question # 05\n",
    "Write a Python program which accepts the user's first and last name and print them in\n",
    "reverse order with a space between them."
   ]
  },
  {
   "cell_type": "code",
   "execution_count": 14,
   "id": "d909b545",
   "metadata": {},
   "outputs": [
    {
     "name": "stdout",
     "output_type": "stream",
     "text": [
      "Kindly type your first name: Arjumand\n",
      "Kindly type your last name: Syed\n",
      "\n",
      "Syed Arjumand\n"
     ]
    }
   ],
   "source": [
    "first_name=input(\"Kindly type your first name: \")\n",
    "last_name=input(\"Kindly type your last name: \")\n",
    "print(\"\\n\"+last_name+\" \"+first_name)"
   ]
  },
  {
   "cell_type": "markdown",
   "id": "44237715",
   "metadata": {},
   "source": [
    "### Question # 06\n",
    "Write a python program which takes two inputs from user and print them addition"
   ]
  },
  {
   "cell_type": "code",
   "execution_count": 15,
   "id": "5ed30af6",
   "metadata": {},
   "outputs": [
    {
     "name": "stdout",
     "output_type": "stream",
     "text": [
      "Kindly input first number: 45\n",
      "Kindly input second number: 2\n",
      "Sum of the given numbers is:  47.0\n"
     ]
    }
   ],
   "source": [
    "num1=float(input(\"Kindly input first number: \"))\n",
    "num2=float(input(\"Kindly input second number: \"))\n",
    "addition = num1 + num2;\n",
    "print(\"Sum of the given numbers is: \", addition)"
   ]
  },
  {
   "cell_type": "markdown",
   "id": "ab07b2ad",
   "metadata": {},
   "source": [
    "### Question # 07\n",
    "Write a program which takes 5 inputs from user for different subject’s marks, total it\n",
    "and generate mark sheet using grades?"
   ]
  },
  {
   "cell_type": "code",
   "execution_count": 16,
   "id": "88728431",
   "metadata": {},
   "outputs": [
    {
     "name": "stdout",
     "output_type": "stream",
     "text": [
      "Kindly input subject 1 marks: 89\n",
      "Kindly input subject 2 marks: 78\n",
      "Kindly input subject 3 marks: 90\n",
      "Kindly input subject 4 marks: 67\n",
      "Kindly input subject 5 marks: 54\n",
      "Percentage =  75.6 %\n",
      "Grade =  A\n"
     ]
    }
   ],
   "source": [
    "sub1=float(input(\"Kindly input subject 1 marks: \"));\n",
    "sub2=float(input(\"Kindly input subject 2 marks: \"));\n",
    "sub3=float(input(\"Kindly input subject 3 marks: \"));\n",
    "sub4=float(input(\"Kindly input subject 4 marks: \"));\n",
    "sub5=float(input(\"Kindly input subject 5 marks: \"));\n",
    "total=500;\n",
    "marks_obt=sub1+sub2+sub3+sub4+sub5;\n",
    "percentage=((marks_obt/total)*100)\n",
    "if percentage >= 80:\n",
    "    grade=\"A+\";\n",
    "elif percentage < 80 and percentage >= 70:\n",
    "    grade = \"A\";\n",
    "elif percentage < 80 and percentage >= 70:\n",
    "    grade = \"B+\";\n",
    "elif percentage < 70 and percentage >= 60:\n",
    "    grade = \"B\";\n",
    "elif percentage < 60 and percentage >= 50:\n",
    "    grade = \"C\";\n",
    "elif percentage < 50:\n",
    "    grade = \"Fail\";\n",
    "else:\n",
    "    print(\"You didn't eneterd subject marks correctly\")\n",
    "print(\"Percentage = \",percentage,\"%\")\n",
    "print(\"Grade = \",grade)"
   ]
  },
  {
   "cell_type": "markdown",
   "id": "ffd79933",
   "metadata": {},
   "source": [
    "### Question # 08\n",
    "Write a program which take input from user and identify that the given number is even\n",
    "or odd?"
   ]
  },
  {
   "cell_type": "code",
   "execution_count": 17,
   "id": "ee21da26",
   "metadata": {},
   "outputs": [
    {
     "name": "stdout",
     "output_type": "stream",
     "text": [
      "Kindly input any number: 102345\n",
      "\n",
      "Number is ODD\n"
     ]
    }
   ],
   "source": [
    "num=int(input(\"Kindly input any number: \"))\n",
    "if num%2 == 0:\n",
    "    print(\"\\nNumber is EVEN\")\n",
    "else:\n",
    "    print(\"\\nNumber is ODD\")"
   ]
  },
  {
   "cell_type": "markdown",
   "id": "9237cb8f",
   "metadata": {},
   "source": [
    "### Question # 09\n",
    "Write a program which print the length of the list?"
   ]
  },
  {
   "cell_type": "code",
   "execution_count": 18,
   "id": "b5855378",
   "metadata": {},
   "outputs": [
    {
     "name": "stdout",
     "output_type": "stream",
     "text": [
      "The list is : ['apple', 'banana', 234, 'orange', 'grape', 'mango']\n",
      "The length of list is: 6\n"
     ]
    }
   ],
   "source": [
    "#By using len() function\n",
    "list1 = [\"apple\",\"banana\",234,\"orange\",\"grape\",\"mango\"]\n",
    "print(\"The list is : \" + str(list1)+\"\\nThe length of list is: \"+ str(len(list1)))"
   ]
  },
  {
   "cell_type": "code",
   "execution_count": 19,
   "id": "1c4b7599",
   "metadata": {},
   "outputs": [
    {
     "name": "stdout",
     "output_type": "stream",
     "text": [
      "Length of list is : 6\n"
     ]
    }
   ],
   "source": [
    "#by using loop\n",
    "counter = 0\n",
    "for i in list1:\n",
    "    counter = counter + 1\n",
    "print (\"Length of list is : \" + str(counter))"
   ]
  },
  {
   "cell_type": "markdown",
   "id": "bff81323",
   "metadata": {},
   "source": [
    "### Question # 10\n",
    "Write a Python program to sum all the numeric items in a list?"
   ]
  },
  {
   "cell_type": "code",
   "execution_count": 20,
   "id": "eda2f840",
   "metadata": {},
   "outputs": [
    {
     "name": "stdout",
     "output_type": "stream",
     "text": [
      "Sum of all numeric elements of list is :232\n"
     ]
    }
   ],
   "source": [
    "List=[1, 1, 2, 3, 5, 8, 13, 21, 34, 55, 89]\n",
    "print(\"Sum of all numeric elements of list is :\" + str(sum(List)))"
   ]
  },
  {
   "cell_type": "markdown",
   "id": "5a5e4f67",
   "metadata": {},
   "source": [
    "### Question # 11\n",
    "Write a Python program to get the largest number from a numeric list."
   ]
  },
  {
   "cell_type": "code",
   "execution_count": 21,
   "id": "995f8d9c",
   "metadata": {},
   "outputs": [
    {
     "name": "stdout",
     "output_type": "stream",
     "text": [
      "Largest element is: 10000\n"
     ]
    }
   ],
   "source": [
    "list1 = [10000, 20, 4, 45, 99,87,1,1001,987,32,2,8,3,]\n",
    "# sorting the list\n",
    "list1.sort()\n",
    "print(\"Largest element is:\", list1[-1])"
   ]
  },
  {
   "cell_type": "markdown",
   "id": "ce22c73e",
   "metadata": {},
   "source": [
    "### Question # 12\n",
    "Take a list, say for example this one:\n",
    "\n",
    "a = [1, 1, 2, 3, 5, 8, 13, 21, 34, 55, 89]\n",
    "\n",
    "Write a program that prints out all the elements of the list that are less than 5."
   ]
  },
  {
   "cell_type": "code",
   "execution_count": 22,
   "id": "28a09b76",
   "metadata": {},
   "outputs": [
    {
     "name": "stdout",
     "output_type": "stream",
     "text": [
      "1\n",
      "1\n",
      "2\n",
      "3\n"
     ]
    }
   ],
   "source": [
    "for i in List:\n",
    "    if i < 5:\n",
    "        print(i)"
   ]
  },
  {
   "cell_type": "code",
   "execution_count": 23,
   "id": "c0751b85",
   "metadata": {},
   "outputs": [
    {
     "name": "stdout",
     "output_type": "stream",
     "text": [
      "[1, 1, 2, 3]\n"
     ]
    }
   ],
   "source": [
    "list2=[]\n",
    "for i in List:\n",
    "    if i < 5:\n",
    "        list2.append(i)\n",
    "print(list2)"
   ]
  }
 ],
 "metadata": {
  "kernelspec": {
   "display_name": "Python 3",
   "language": "python",
   "name": "python3"
  },
  "language_info": {
   "codemirror_mode": {
    "name": "ipython",
    "version": 3
   },
   "file_extension": ".py",
   "mimetype": "text/x-python",
   "name": "python",
   "nbconvert_exporter": "python",
   "pygments_lexer": "ipython3",
   "version": "3.8.8"
  }
 },
 "nbformat": 4,
 "nbformat_minor": 5
}
