{
 "cells": [
  {
   "cell_type": "code",
   "execution_count": 6,
   "id": "b3a24904",
   "metadata": {},
   "outputs": [],
   "source": [
    "eng=85;\n",
    "isl=85;\n",
    "math=98;\n",
    "total=300;\n",
    "marks_obt=eng+isl+math;"
   ]
  },
  {
   "cell_type": "code",
   "execution_count": 7,
   "id": "2e57725c",
   "metadata": {},
   "outputs": [],
   "source": [
    "percentage=((marks_obt/total)*100)\n",
    "if percentage >= 80:\n",
    "    grade=\"A+\";\n",
    "elif percentage < 80 and percentage >= 70:\n",
    "    grade = \"A\";\n",
    "elif percentage < 80 and percentage >= 70:\n",
    "    grade = \"B+\";\n",
    "elif percentage < 70 and percentage >= 60:\n",
    "    grade = \"B\";\n",
    "elif percentage < 60 and percentage >= 50:\n",
    "    grade = \"Fail\";"
   ]
  },
  {
   "cell_type": "code",
   "execution_count": 14,
   "id": "8094661f",
   "metadata": {},
   "outputs": [
    {
     "name": "stdout",
     "output_type": "stream",
     "text": [
      "Percentage =  89.33333333333333 %\n",
      "Grade =  A+\n"
     ]
    }
   ],
   "source": [
    "print(\"Percentage = \",percentage,\"%\")\n",
    "print(\"Grade = \",grade)"
   ]
  },
  {
   "cell_type": "code",
   "execution_count": null,
   "id": "44fb0f02",
   "metadata": {},
   "outputs": [],
   "source": []
  }
 ],
 "metadata": {
  "kernelspec": {
   "display_name": "Python 3",
   "language": "python",
   "name": "python3"
  },
  "language_info": {
   "codemirror_mode": {
    "name": "ipython",
    "version": 3
   },
   "file_extension": ".py",
   "mimetype": "text/x-python",
   "name": "python",
   "nbconvert_exporter": "python",
   "pygments_lexer": "ipython3",
   "version": "3.8.8"
  }
 },
 "nbformat": 4,
 "nbformat_minor": 5
}
